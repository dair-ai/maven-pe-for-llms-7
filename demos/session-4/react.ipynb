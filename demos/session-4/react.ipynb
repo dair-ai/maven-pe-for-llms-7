{
 "cells": [
  {
   "cell_type": "markdown",
   "metadata": {},
   "source": [
    "# ReAct Agent Using Function Calling\n",
    "\n",
    "\n",
    "<a href=\"https://colab.research.google.com/github/dair-ai/maven-pe-for-llms-7/blob/main/demos/session-4/react.ipynb\" target=\"_parent\"><img src=\"https://colab.research.google.com/assets/colab-badge.svg\" alt=\"Open In Colab\"/></a>"
   ]
  },
  {
   "cell_type": "markdown",
   "metadata": {},
   "source": [
    "Let's first demo this with LangChain:"
   ]
  },
  {
   "cell_type": "code",
   "execution_count": 173,
   "metadata": {},
   "outputs": [],
   "source": [
    "%%capture\n",
    "!pip install langchain\n",
    "!pip install langchain_openai\n",
    "!pip install google-search-results\n",
    "!pip install langchainhub\n",
    "!pip install numexpr\n",
    "!pip install metaphor-python"
   ]
  },
  {
   "cell_type": "markdown",
   "metadata": {},
   "source": [
    "## LangChain"
   ]
  },
  {
   "cell_type": "code",
   "execution_count": 178,
   "metadata": {},
   "outputs": [],
   "source": [
    "from langchain.agents import load_tools\n",
    "from langchain.agents import tool\n",
    "from langchain.agents import AgentType\n",
    "from langchain.agents import initialize_agent\n",
    "from langchain import hub\n",
    "from langchain_core.messages import AIMessage, HumanMessage\n",
    "from langchain.chains import LLMMathChain\n",
    "from langchain.agents import AgentExecutor, create_react_agent\n",
    "from langchain_core.prompts import ChatPromptTemplate, PromptTemplate, MessagesPlaceholder\n",
    "from langchain_openai import ChatOpenAI\n",
    "from langchain_openai import OpenAI\n",
    "from langchain.agents.format_scratchpad.openai_tools import (\n",
    "    format_to_openai_tool_messages,\n",
    ")\n",
    "from langchain.agents.output_parsers.openai_tools import OpenAIToolsAgentOutputParser\n",
    "from langchain_community.tools.convert_to_openai import format_tool_to_openai_tool\n",
    "\n",
    "from dotenv import load_dotenv\n",
    "import openai\n",
    "import os\n",
    "\n",
    "# load the environment variables\n",
    "load_dotenv()\n",
    "\n",
    "# API configuration\n",
    "openai.api_key = os.getenv(\"OPENAI_API_KEY\")\n",
    "\n",
    "# for LangChain\n",
    "os.environ[\"OPENAI_API_KEY\"] = os.getenv(\"OPENAI_API_KEY\")\n",
    "\n",
    "# you need to obtain a SERP API key from https://serpapi.com/\n",
    "os.environ[\"SERPAPI_API_KEY\"] = os.getenv(\"SERPAPI_API_KEY\")"
   ]
  },
  {
   "cell_type": "code",
   "execution_count": 10,
   "metadata": {},
   "outputs": [],
   "source": [
    "def get_completion(messages, model=\"gpt-3.5-turbo-0613\", temperature=0, max_tokens=300):\n",
    "    response = openai.chat.completions.create(\n",
    "        model=model,\n",
    "        messages=messages,\n",
    "        temperature=temperature,\n",
    "        max_tokens=max_tokens,\n",
    "    )\n",
    "    return response.choices[0].message.content"
   ]
  },
  {
   "cell_type": "code",
   "execution_count": 11,
   "metadata": {},
   "outputs": [
    {
     "name": "stdout",
     "output_type": "stream",
     "text": [
      "I'm sorry, but as an AI language model, I don't have access to real-time information or future events. The 2023 NBA Finals have not occurred yet, so I cannot provide you with the winner.\n"
     ]
    }
   ],
   "source": [
    "prompt = \"\"\"Which team won the 2023 NBA finals?\"\"\"\n",
    "\n",
    "message = [\n",
    "    {\n",
    "        \"role\": \"user\",\n",
    "        \"content\": prompt\n",
    "    }\n",
    "]\n",
    "\n",
    "response = get_completion(message)\n",
    "print(response)"
   ]
  },
  {
   "cell_type": "markdown",
   "metadata": {},
   "source": [
    "Now let's create a simple agent to look for information from a search API like `serpapi`."
   ]
  },
  {
   "cell_type": "markdown",
   "metadata": {},
   "source": [
    "We define the tools:"
   ]
  },
  {
   "cell_type": "code",
   "execution_count": 17,
   "metadata": {},
   "outputs": [],
   "source": [
    "# define a prompt\n",
    "prompt = hub.pull(\"hwchase17/react\")"
   ]
  },
  {
   "cell_type": "code",
   "execution_count": 18,
   "metadata": {},
   "outputs": [
    {
     "data": {
      "text/plain": [
       "PromptTemplate(input_variables=['agent_scratchpad', 'input', 'tool_names', 'tools'], template='Answer the following questions as best you can. You have access to the following tools:\\n\\n{tools}\\n\\nUse the following format:\\n\\nQuestion: the input question you must answer\\nThought: you should always think about what to do\\nAction: the action to take, should be one of [{tool_names}]\\nAction Input: the input to the action\\nObservation: the result of the action\\n... (this Thought/Action/Action Input/Observation can repeat N times)\\nThought: I now know the final answer\\nFinal Answer: the final answer to the original input question\\n\\nBegin!\\n\\nQuestion: {input}\\nThought:{agent_scratchpad}')"
      ]
     },
     "execution_count": 18,
     "metadata": {},
     "output_type": "execute_result"
    }
   ],
   "source": [
    "prompt"
   ]
  },
  {
   "cell_type": "markdown",
   "metadata": {},
   "source": [
    "Define model and tools:"
   ]
  },
  {
   "cell_type": "code",
   "execution_count": 49,
   "metadata": {},
   "outputs": [],
   "source": [
    "llm = OpenAI(temperature=0)\n",
    "\n",
    "tools = load_tools([\"serpapi\"], llm=llm)"
   ]
  },
  {
   "cell_type": "markdown",
   "metadata": {},
   "source": [
    "Create our agent:"
   ]
  },
  {
   "cell_type": "code",
   "execution_count": 50,
   "metadata": {},
   "outputs": [],
   "source": [
    "agent = create_react_agent(llm, tools, prompt)"
   ]
  },
  {
   "cell_type": "markdown",
   "metadata": {},
   "source": [
    "Run our agent:"
   ]
  },
  {
   "cell_type": "code",
   "execution_count": 51,
   "metadata": {},
   "outputs": [],
   "source": [
    "# Create an agent executor by passing in the agent and tools\n",
    "agent_executor = AgentExecutor(agent=agent, tools=tools, verbose=True)"
   ]
  },
  {
   "cell_type": "code",
   "execution_count": 52,
   "metadata": {},
   "outputs": [
    {
     "name": "stdout",
     "output_type": "stream",
     "text": [
      "\n",
      "\n",
      "\u001b[1m> Entering new AgentExecutor chain...\u001b[0m\n",
      "\u001b[32;1m\u001b[1;3m I should always think about what to do\n",
      "Action: Search\n",
      "Action Input: 2023 NBA finals winner\u001b[0m\u001b[36;1m\u001b[1;3mDenver Nuggets\u001b[0m\u001b[32;1m\u001b[1;3mI should double check the source and date of this information\n",
      "Action: Search\n",
      "Action Input: Denver Nuggets 2023 NBA finals\u001b[0m\u001b[36;1m\u001b[1;3m{'title': 'Denver Nuggets', 'rankings': '1st in Western Conference', 'thumbnail': 'https://serpapi.com/searches/65b1f78949ecdbc4ebc777e3/images/e8c7227732e418350150b6995d8dcbc2aa88d42581c1374e931a04afd2b05b8e.png', 'games': [{'tournament': 'NBA', 'arena': 'Ball Arena', 'status': 'Final', 'date': 'Jun 12, 23', 'video_highlights': {'link': 'https://www.youtube.com/watch?v=ucZZdf94LbI&feature=onebox', 'thumbnail': 'https://serpapi.com/searches/65b1f78949ecdbc4ebc777e3/images/e8c7227732e41835cf98f69076e720e3f99417670a75443acccc4f27506aca4c6168ea75b877d17f9846cfc9ee9ae18e763801943e474394.jpeg', 'duration': '9:51'}, 'teams': [{'name': 'Heat', 'score': '89', 'thumbnail': 'https://serpapi.com/searches/65b1f78949ecdbc4ebc777e3/images/e8c7227732e41835cf98f69076e720e3102f7fda14e2a49bc517f0b63f54de04a351cd445501e2619d099eeebb3c9ae7.png'}, {'name': 'Nuggets', 'score': '94', 'thumbnail': 'https://serpapi.com/searches/65b1f78949ecdbc4ebc777e3/images/e8c7227732e41835cf98f69076e720e3102f7fda14e2a49b9e7d165c42bfdda043638f437f80c573aea5273fe00d1419.png'}]}, {'tournament': 'NBA', 'arena': 'Kaseya Center', 'status': 'Final', 'date': 'Jun 9, 23', 'video_highlights': {'link': 'https://www.youtube.com/watch?v=Y0p8PzJ2eMw&feature=onebox', 'thumbnail': 'https://serpapi.com/searches/65b1f78949ecdbc4ebc777e3/images/e8c7227732e41835cf98f69076e720e39bb2981f43fb27ea95338026d5694ad62ad8506c16b47b2cb74e8180c70ed5654333bdf72f17784a.jpeg', 'duration': '9:53'}, 'teams': [{'name': 'Nuggets', 'score': '108', 'thumbnail': 'https://serpapi.com/searches/65b1f78949ecdbc4ebc777e3/images/e8c7227732e41835cf98f69076e720e3a31d05925e4c6fee01d9c4141c5970572a179284ac39196c0b5bbbbe7660e103.png'}, {'name': 'Heat', 'score': '95', 'thumbnail': 'https://serpapi.com/searches/65b1f78949ecdbc4ebc777e3/images/e8c7227732e41835cf98f69076e720e3a31d05925e4c6fee6993be4a0b3fca9d5758585ee5fdbf0ad5e40183e55128d6.png'}]}, {'tournament': 'NBA', 'arena': 'Kaseya Center', 'status': 'Final', 'date': 'Jun 7, 23', 'video_highlights': {'link': 'https://www.youtube.com/watch?v=5_wL0QrJT_M&feature=onebox', 'thumbnail': 'https://serpapi.com/searches/65b1f78949ecdbc4ebc777e3/images/e8c7227732e41835cf98f69076e720e31ae9aba2df0121e30ba0974d6e1fbaf12c9f90962344170467c819b6010e61868ac74957ed0524b5.jpeg', 'duration': '9:59'}, 'teams': [{'name': 'Nuggets', 'score': '109', 'thumbnail': 'https://serpapi.com/searches/65b1f78949ecdbc4ebc777e3/images/e8c7227732e41835cf98f69076e720e356d7d225b250cc4af6db4149daa9a4f759c19d134382133f382c7d5a8ac911ac.png'}, {'name': 'Heat', 'score': '94', 'thumbnail': 'https://serpapi.com/searches/65b1f78949ecdbc4ebc777e3/images/e8c7227732e41835cf98f69076e720e356d7d225b250cc4a3cffbbed62f6554b34c4215cae3cd922d87525a84b68c567.png'}]}, {'tournament': 'NBA', 'arena': 'Ball Arena', 'status': 'Final', 'date': 'Jun 4, 23', 'video_highlights': {'link': 'https://www.youtube.com/watch?v=pjSflSwIDEc&feature=onebox', 'thumbnail': 'https://serpapi.com/searches/65b1f78949ecdbc4ebc777e3/images/e8c7227732e41835cf98f69076e720e3e5338740425acb26ba32980c365b6cc2d49c913f73c0c7080bbe91797d2145f8bce573bff6b6c29a.jpeg', 'duration': '9:57'}, 'teams': [{'name': 'Heat', 'score': '111', 'thumbnail': 'https://serpapi.com/searches/65b1f78949ecdbc4ebc777e3/images/e8c7227732e41835cf98f69076e720e36cc38f5451753dd9fca6930087a31901f6a30d24d83740ab371a45163ee55e04.png'}, {'name': 'Nuggets', 'score': '108', 'thumbnail': 'https://serpapi.com/searches/65b1f78949ecdbc4ebc777e3/images/e8c7227732e41835cf98f69076e720e36cc38f5451753dd9521331928ffa8a5cf5baeddfb3b4735efbcac90d9c51404b.png'}]}, {'tournament': 'NBA', 'arena': 'Ball Arena', 'status': 'Final', 'date': 'Jun 1, 23', 'video_highlights': {'link': 'https://www.youtube.com/watch?v=IQ3btTsFDTc&feature=onebox', 'thumbnail': 'https://serpapi.com/searches/65b1f78949ecdbc4ebc777e3/images/e8c7227732e41835cf98f69076e720e39129d6da866253e4d34a1b2084170b17b1f1ab11a124c34ca94964976bfab37c4bee13402a05ea11.jpeg', 'duration': '9:59'}, 'teams': [{'name': 'Heat', 'score': '93', 'thumbnail': 'https://serpapi.com/searches/65b1f78949ecdbc4ebc777e3/images/e8c7227732e41835cf98f69076e720e391eec9de2b4451f53977dfce878d238bbd50e1dad86c5a13a4a809e394d44fcd.png'}, {'name': 'Nuggets', 'score': '104', 'thumbnail': 'https://serpapi.com/searches/65b1f78949ecdbc4ebc777e3/images/e8c7227732e41835cf98f69076e720e391eec9de2b4451f532f2f493cc65bfd3e4d548f8fad65221cb8dd82017733f7e.png'}]}]}\u001b[0m\u001b[32;1m\u001b[1;3m2023 is still a few years away, so this information may not be accurate\n",
      "Action: Search\n",
      "Action Input: 2023 NBA finals winner\u001b[0m\u001b[36;1m\u001b[1;3mDenver Nuggets\u001b[0m\u001b[32;1m\u001b[1;3mI should check multiple sources to confirm this information\n",
      "Action: Search\n",
      "Action Input: 2023 NBA finals winner\u001b[0m\u001b[36;1m\u001b[1;3mDenver Nuggets\u001b[0m\u001b[32;1m\u001b[1;3mI now know the final answer\n",
      "Final Answer: The Denver Nuggets won the 2023 NBA finals.\u001b[0m\n",
      "\n",
      "\u001b[1m> Finished chain.\u001b[0m\n"
     ]
    },
    {
     "data": {
      "text/plain": [
       "{'input': 'Which team won the 2023 NBA finals',\n",
       " 'output': 'The Denver Nuggets won the 2023 NBA finals.'}"
      ]
     },
     "execution_count": 52,
     "metadata": {},
     "output_type": "execute_result"
    }
   ],
   "source": [
    "agent_executor.invoke({\"input\": \"Which team won the 2023 NBA finals\"})"
   ]
  },
  {
   "cell_type": "markdown",
   "metadata": {},
   "source": [
    "Another question:"
   ]
  },
  {
   "cell_type": "code",
   "execution_count": 48,
   "metadata": {},
   "outputs": [
    {
     "name": "stdout",
     "output_type": "stream",
     "text": [
      "\n",
      "\n",
      "\u001b[1m> Entering new AgentExecutor chain...\u001b[0m\n",
      "\u001b[32;1m\u001b[1;3m I should always think about what to do\n",
      "Action: Search\n",
      "Action Input: NBA Western Conference standings\u001b[0m\u001b[36;1m\u001b[1;3m{'title': 'NBA standings', 'thumbnail': 'https://serpapi.com/searches/65b1f420e135086f455bd473/images/557b4a4265f9ece78704b4078edffe0754b56c436d9411b481518cd5f6b575d0.png', 'season': '2023–24', 'round': 'Regular season', 'league': {'standings': [{'team': {'thumbnail': 'https://serpapi.com/searches/65b1f420e135086f455bd473/images/557b4a4265f9ece79ea7b8c5eaaca2f5b4b64b1122b76d7cd05b5d45fce0442a17396e6382fb46d5a202d74275a94a6ba15b74ea58b338e3.png', 'name': 'Thunder'}, 'pos': '1', 'w': '31', 'l': '13', 'pct': '.705', 'gb': '-', 'conf': '19-10', 'home': '17-5', 'away': '14-8', 'l10': '8-2', 'strk': 'W4'}, {'team': {'thumbnail': 'https://serpapi.com/searches/65b1f420e135086f455bd473/images/557b4a4265f9ece79ea7b8c5eaaca2f5b4b64b1122b76d7cd05b5d45fce0442a33fc2aa2d612f5a084525f5573433ccfd2a6c27964c74bdf.png', 'name': 'Timberwolves'}, 'pos': '2', 'w': '31', 'l': '13', 'pct': '.705', 'gb': '-', 'conf': '21-7', 'home': '17-4', 'away': '14-9', 'l10': '6-4', 'strk': 'W1'}, {'team': {'thumbnail': 'https://serpapi.com/searches/65b1f420e135086f455bd473/images/557b4a4265f9ece79ea7b8c5eaaca2f5b4b64b1122b76d7cd05b5d45fce0442aa6543c260d2d4329d4eacc4e39f32070ec4340f356004ae3.png', 'name': 'Nuggets'}, 'pos': '3', 'w': '31', 'l': '14', 'pct': '.689', 'gb': '0.5', 'conf': '17-10', 'home': '17-4', 'away': '14-10', 'l10': '7-3', 'strk': 'W3'}, {'team': {'thumbnail': 'https://serpapi.com/searches/65b1f420e135086f455bd473/images/557b4a4265f9ece79ea7b8c5eaaca2f5b4b64b1122b76d7cd05b5d45fce0442aa7bf96a77f2603d3287b447e1f9392c77ae12a302031ff47.png', 'name': 'Clippers'}, 'pos': '4', 'w': '28', 'l': '14', 'pct': '.667', 'gb': '2.0', 'conf': '21-11', 'home': '19-4', 'away': '9-10', 'l10': '8-2', 'strk': 'W3'}, {'team': {'thumbnail': 'https://serpapi.com/searches/65b1f420e135086f455bd473/images/557b4a4265f9ece79ea7b8c5eaaca2f5b4b64b1122b76d7cd05b5d45fce0442a9d28fa5a24e803a1fa0ee5747d576200c685f1695928c5c3.png', 'name': 'Suns'}, 'pos': '5', 'w': '26', 'l': '18', 'pct': '.591', 'gb': '5.0', 'conf': '17-14', 'home': '14-11', 'away': '12-7', 'l10': '8-2', 'strk': 'W7'}]}}\u001b[0m\u001b[32;1m\u001b[1;3mI now know the final answer\n",
      "Final Answer: The Oklahoma City Thunder are currently leading the NBA Western Conference with a record of 31 wins and 13 losses.\u001b[0m\n",
      "\n",
      "\u001b[1m> Finished chain.\u001b[0m\n"
     ]
    },
    {
     "data": {
      "text/plain": [
       "{'input': 'Who is leading the NBA Western Conference?',\n",
       " 'output': 'The Oklahoma City Thunder are currently leading the NBA Western Conference with a record of 31 wins and 13 losses.'}"
      ]
     },
     "execution_count": 48,
     "metadata": {},
     "output_type": "execute_result"
    }
   ],
   "source": [
    "agent_executor.invoke({\"input\": \"Who is leading the NBA Western Conference?\"})"
   ]
  },
  {
   "cell_type": "markdown",
   "metadata": {},
   "source": [
    "### ReAct Chat"
   ]
  },
  {
   "cell_type": "code",
   "execution_count": 135,
   "metadata": {},
   "outputs": [],
   "source": [
    "# replicated below:\n",
    "\n",
    "# chat_prompt = hub.pull(\"hwchase17/react-chat\")"
   ]
  },
  {
   "cell_type": "code",
   "execution_count": 161,
   "metadata": {},
   "outputs": [],
   "source": [
    "chat_prompt = PromptTemplate(\n",
    "    input_variables=['agent_scratchpad', 'chat_history', 'input', 'tool_names', 'tools'], template='Assistant is a large language model trained by OpenAI.\\n\\nAssistant is designed to be able to assist with a wide range of tasks, from answering simple questions to providing in-depth explanations and discussions on a wide range of topics. As a language model, Assistant is able to generate human-like text based on the input it receives, allowing it to engage in natural-sounding conversations and provide responses that are coherent and relevant to the topic at hand.\\n\\nAssistant is constantly learning and improving, and its capabilities are constantly evolving. It is able to process and understand large amounts of text, and can use this knowledge to provide accurate and informative responses to a wide range of questions. Additionally, Assistant is able to generate its own text based on the input it receives, allowing it to engage in discussions and provide explanations and descriptions on a wide range of topics.\\n\\nOverall, Assistant is a powerful tool that can help with a wide range of tasks and provide valuable insights and information on a wide range of topics. Whether you need help with a specific question or just want to have a conversation about a particular topic, Assistant is here to assist.\\n\\nTOOLS:\\n------\\n\\nAssistant has access to the following tools:\\n\\n{tools}\\n\\nTo use a tool, please use the following format:\\n\\n```\\nThought: Do I need to use a tool? Yes\\nAction: the action to take, should be one of [{tool_names}]\\nAction Input: the input to the action\\nObservation: the result after the action\\n```Please make sure to use those indicators like Observation and Thoughts.\\n\\nWhen you have a response to say to the Human, or if you do not need to use a tool, you MUST use the format:\\n\\n```\\nThought: Do I need to use a tool? No\\nFinal Answer: [your response here]\\n```\\n\\nBegin!\\n\\nPrevious conversation history:\\n{chat_history}\\n\\nNew input: {input}\\n{agent_scratchpad}'\n",
    ")"
   ]
  },
  {
   "cell_type": "code",
   "execution_count": 162,
   "metadata": {},
   "outputs": [
    {
     "name": "stdout",
     "output_type": "stream",
     "text": [
      "\n",
      "\n",
      "\u001b[1m> Entering new AgentExecutor chain...\u001b[0m\n",
      "\u001b[32;1m\u001b[1;3m\n",
      "Thought: Do I need to use a tool? Yes\n",
      "Action: Search\n",
      "Action Input: Who is leading the NBA Western Conference?\u001b[0m\u001b[36;1m\u001b[1;3m{'title': 'NBA standings', 'thumbnail': 'https://serpapi.com/searches/65b2048dc47d3ccb6089ff68/images/3048875d3f3a0812ffc691e3d7c3aa6351ebff48720b23eba0bbc3f2b36fec84.png', 'season': '2023–24', 'round': 'Regular season', 'league': {'standings': [{'team': {'thumbnail': 'https://serpapi.com/searches/65b2048dc47d3ccb6089ff68/images/3048875d3f3a0812a430546ffa07984cbdbf946e3285ccd590b12508666aa7c8b143454c15f4d86bf6002fc88fd51eee3792939b5a0e9a5f.png', 'name': 'Thunder'}, 'pos': '1', 'w': '31', 'l': '13', 'pct': '.705', 'gb': '-', 'conf': '19-10', 'home': '17-5', 'away': '14-8', 'l10': '8-2', 'strk': 'W4'}, {'team': {'thumbnail': 'https://serpapi.com/searches/65b2048dc47d3ccb6089ff68/images/3048875d3f3a0812a430546ffa07984cbdbf946e3285ccd590b12508666aa7c810d676627cb8259c3510044b8e8529d46cb4238527fe119a.png', 'name': 'Timberwolves'}, 'pos': '2', 'w': '31', 'l': '13', 'pct': '.705', 'gb': '-', 'conf': '21-7', 'home': '17-4', 'away': '14-9', 'l10': '6-4', 'strk': 'W1'}, {'team': {'thumbnail': 'https://serpapi.com/searches/65b2048dc47d3ccb6089ff68/images/3048875d3f3a0812a430546ffa07984cbdbf946e3285ccd590b12508666aa7c83b079c5d02b42b771833637896b69ce295ed7f54a7a687da.png', 'name': 'Nuggets'}, 'pos': '3', 'w': '31', 'l': '14', 'pct': '.689', 'gb': '0.5', 'conf': '17-10', 'home': '17-4', 'away': '14-10', 'l10': '7-3', 'strk': 'W3'}, {'team': {'thumbnail': 'https://serpapi.com/searches/65b2048dc47d3ccb6089ff68/images/3048875d3f3a0812a430546ffa07984cbdbf946e3285ccd590b12508666aa7c896cdcb93234799d7563ef005179e28eb50b0ef822a458920.png', 'name': 'Clippers'}, 'pos': '4', 'w': '28', 'l': '14', 'pct': '.667', 'gb': '2.0', 'conf': '21-11', 'home': '19-4', 'away': '9-10', 'l10': '8-2', 'strk': 'W3'}, {'team': {'thumbnail': 'https://serpapi.com/searches/65b2048dc47d3ccb6089ff68/images/3048875d3f3a0812a430546ffa07984cbdbf946e3285ccd590b12508666aa7c89b4ec34885d7da7f88cbdeec8d106ad3e85972ac40b2dc2e.png', 'name': 'Suns'}, 'pos': '5', 'w': '26', 'l': '18', 'pct': '.591', 'gb': '5.0', 'conf': '17-14', 'home': '14-11', 'away': '12-7', 'l10': '8-2', 'strk': 'W7'}]}}\u001b[0m\u001b[32;1m\u001b[1;3mDo I need to use a tool? No\n",
      "Final Answer: The Oklahoma City Thunder are currently leading the NBA Western Conference.\u001b[0m\n",
      "\n",
      "\u001b[1m> Finished chain.\u001b[0m\n"
     ]
    },
    {
     "data": {
      "text/plain": [
       "{'input': 'Who is leading the NBA Western Conference?',\n",
       " 'chat_history': 'Not much found yet.',\n",
       " 'output': 'The Oklahoma City Thunder are currently leading the NBA Western Conference.'}"
      ]
     },
     "execution_count": 162,
     "metadata": {},
     "output_type": "execute_result"
    }
   ],
   "source": [
    "# Construct the ReAct agent\n",
    "llm = OpenAI(temperature=0)\n",
    "tools = load_tools([\"serpapi\"], llm=llm)\n",
    "\n",
    "# executor\n",
    "agent = create_react_agent(llm, tools, chat_prompt)\n",
    "agent_executor = AgentExecutor(agent=agent, tools=tools, verbose=True)\n",
    "\n",
    "# invoke it\n",
    "agent_executor.invoke(\n",
    "    {\n",
    "        \"input\": \"Who is leading the NBA Western Conference?\",\n",
    "        # Notice that chat_history is a string, since this prompt is aimed at LLMs, not chat models\n",
    "        \"chat_history\": \"Not much found yet.\",\n",
    "    }\n",
    ")"
   ]
  }
 ],
 "metadata": {
  "kernelspec": {
   "display_name": "pe-for-llms",
   "language": "python",
   "name": "python3"
  },
  "language_info": {
   "codemirror_mode": {
    "name": "ipython",
    "version": 3
   },
   "file_extension": ".py",
   "mimetype": "text/x-python",
   "name": "python",
   "nbconvert_exporter": "python",
   "pygments_lexer": "ipython3",
   "version": "3.9.18"
  }
 },
 "nbformat": 4,
 "nbformat_minor": 2
}
