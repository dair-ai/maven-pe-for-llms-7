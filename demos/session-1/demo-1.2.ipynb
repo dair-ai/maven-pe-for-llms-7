{
 "cells": [
  {
   "cell_type": "markdown",
   "metadata": {},
   "source": [
    "# Session 1 | Demo 1.2 - Analyzing Product Reviews\n",
    "\n",
    "<a href=\"https://colab.research.google.com/github/dair-ai/maven-pe-for-llms-7/blob/main/demos/session-1/demo-1.2.ipynb\" target=\"_parent\"><img src=\"https://colab.research.google.com/assets/colab-badge.svg\" alt=\"Open In Colab\"/></a>"
   ]
  },
  {
   "cell_type": "code",
   "execution_count": 1,
   "metadata": {},
   "outputs": [],
   "source": [
    "%%capture\n",
    "# update or install the necessary libraries\n",
    "!pip install --upgrade openai\n",
    "!pip install --upgrade langchain\n",
    "!pip install --upgrade python-dotenv"
   ]
  },
  {
   "cell_type": "code",
   "execution_count": 11,
   "metadata": {},
   "outputs": [],
   "source": [
    "# load the libraries\n",
    "import openai\n",
    "import os\n",
    "import IPython\n",
    "from dotenv import load_dotenv\n",
    "import json\n",
    "\n",
    "# load the environment variables\n",
    "load_dotenv()\n",
    "\n",
    "# API configuration\n",
    "openai.api_key = os.getenv(\"OPENAI_API_KEY\")"
   ]
  },
  {
   "cell_type": "code",
   "execution_count": 4,
   "metadata": {},
   "outputs": [],
   "source": [
    "def get_completion(messages, model=\"gpt-3.5-turbo\", temperature=0, max_tokens=300):\n",
    "    response = openai.chat.completions.create(\n",
    "        model=model,\n",
    "        messages=messages,\n",
    "        temperature=temperature,\n",
    "        max_tokens=max_tokens,\n",
    "    )\n",
    "    return response.choices[0].message.content"
   ]
  },
  {
   "cell_type": "code",
   "execution_count": 7,
   "metadata": {},
   "outputs": [
    {
     "data": {
      "text/plain": [
       "\"1. The complaint is about not receiving the ordered pair of shoes and the lack of updated tracking information.\\n2. The intensity of the complaint is medium, as the customer is expressing frustration about the delay and lack of information.\\n3. The customer's preferred resolution is not mentioned in the complaint.\\n4. The category of the complaint is shipping.\""
      ]
     },
     "execution_count": 7,
     "metadata": {},
     "output_type": "execute_result"
    }
   ],
   "source": [
    "system_message = \"\"\"Your task is to analyze customer complaints and answer questions about the complaint. Output \"NA\" if you are not able to answer the question.\"\"\"\n",
    "\n",
    "prompt = \"\"\"\n",
    "Complaint: {complaint}\n",
    "Questions:\n",
    "1. What is the complaint about?\n",
    "2. What is the intensity of the complaint (low, medium or high)?\n",
    "3. What is the customer's preferred resolution (if any)?\n",
    "4. What is the category of the complaint (e.g., price, quality, shipping, etc)?\n",
    "\n",
    "Answers:\n",
    "\"\"\"\n",
    "\n",
    "messages = [\n",
    "    {\n",
    "        \"role\": \"system\",\n",
    "        \"content\": system_message\n",
    "    },\n",
    "    {\n",
    "        \"role\": \"user\",\n",
    "        \"content\": prompt.format(complaint = \"I ordered a pair of shoes two weeks ago and still haven't received them. The tracking information hasn't been updated in days and I have no idea where my package is.\")\n",
    "    }\n",
    "]\n",
    "\n",
    "get_completion(messages)"
   ]
  },
  {
   "cell_type": "code",
   "execution_count": 8,
   "metadata": {},
   "outputs": [
    {
     "data": {
      "text/plain": [
       "\"1. The complaint is about receiving a defective product and the unresponsiveness and unhelpfulness of customer service.\\n2. The intensity of the complaint is high, as the customer has not received a replacement or a refund even after a week.\\n3. The customer's preferred resolution is not specified in the complaint.\\n4. The category of the complaint is product quality.\""
      ]
     },
     "execution_count": 8,
     "metadata": {},
     "output_type": "execute_result"
    }
   ],
   "source": [
    "messages = [\n",
    "    {\n",
    "        \"role\": \"system\",\n",
    "        \"content\": system_message\n",
    "    },\n",
    "    {\n",
    "        \"role\": \"user\",\n",
    "        \"content\": prompt.format(complaint = \"I received a defective product and when I reached out to customer service, they were unresponsive and unhelpful. It's been a week and I still haven't received a replacement or a refund.\")\n",
    "    }\n",
    "]\n",
    "\n",
    "get_completion(messages)"
   ]
  },
  {
   "cell_type": "markdown",
   "metadata": {},
   "source": [
    "Formatting the output:"
   ]
  },
  {
   "cell_type": "code",
   "execution_count": 10,
   "metadata": {},
   "outputs": [
    {
     "data": {
      "text/plain": [
       "'[{\"question\": \"What is the complaint about?\", \"answer\": \"The complaint is about not receiving the ordered shoes and lack of tracking information.\"},\\n{\"question\": \"What is the intensity of the complaint (low, medium or high)?\", \"answer\": \"The intensity of the complaint is medium.\"},\\n{\"question\": \"What is the customer\\'s preferred resolution (if any)?\", \"answer\": \"The customer\\'s preferred resolution is not mentioned in the complaint.\"},\\n{\"question\": \"What is the category of the complaint (e.g., price, quality, shipping, etc)?\", \"answer\": \"The category of the complaint is shipping.\"}]'"
      ]
     },
     "execution_count": 10,
     "metadata": {},
     "output_type": "execute_result"
    }
   ],
   "source": [
    "system_message = \"\"\"Your task is to analyze customer complaints and answer questions about the complaint. Output \"NA\" if you are not able to answer the question.\"\"\"\n",
    "\n",
    "prompt = \"\"\"\n",
    "Complaint: {complaint}\n",
    "Questions:\n",
    "1. What is the complaint about?\n",
    "2. What is the intensity of the complaint (low, medium or high)?\n",
    "3. What is the customer's preferred resolution (if any)?\n",
    "4. What is the category of the complaint (e.g., price, quality, shipping, etc)?\n",
    "\n",
    "Answers using this format {output_format}:\n",
    "\"\"\"\n",
    "\n",
    "output_format = \"\"\"[{\"question\": \"answer\"},{\"question\": \"answer\"}] \"\"\"\n",
    "\n",
    "\n",
    "messages = [\n",
    "    {\n",
    "        \"role\": \"system\",\n",
    "        \"content\": system_message\n",
    "    },\n",
    "    {\n",
    "        \"role\": \"user\",\n",
    "        \"content\": prompt.format(complaint = \"I ordered a pair of shoes two weeks ago and still haven't received them. The tracking information hasn't been updated in days and I have no idea where my package is.\", output_format = output_format)\n",
    "    }\n",
    "]\n",
    "\n",
    "\n",
    "get_completion(messages)"
   ]
  },
  {
   "cell_type": "markdown",
   "metadata": {},
   "source": [
    "Parse the output into JSON object:"
   ]
  },
  {
   "cell_type": "code",
   "execution_count": 12,
   "metadata": {},
   "outputs": [
    {
     "data": {
      "text/plain": [
       "[{'question': 'What is the complaint about?',\n",
       "  'answer': 'The complaint is about not receiving the ordered shoes and lack of tracking information.'},\n",
       " {'question': 'What is the intensity of the complaint (low, medium or high)?',\n",
       "  'answer': 'The intensity of the complaint is medium.'},\n",
       " {'question': \"What is the customer's preferred resolution (if any)?\",\n",
       "  'answer': \"The customer's preferred resolution is not mentioned in the complaint.\"},\n",
       " {'question': 'What is the category of the complaint (e.g., price, quality, shipping, etc)?',\n",
       "  'answer': 'The category of the complaint is shipping.'}]"
      ]
     },
     "execution_count": 12,
     "metadata": {},
     "output_type": "execute_result"
    }
   ],
   "source": [
    "json.loads(get_completion(messages))"
   ]
  },
  {
   "cell_type": "markdown",
   "metadata": {},
   "source": []
  }
 ],
 "metadata": {
  "kernelspec": {
   "display_name": "pe-for-llms",
   "language": "python",
   "name": "python3"
  },
  "language_info": {
   "codemirror_mode": {
    "name": "ipython",
    "version": 3
   },
   "file_extension": ".py",
   "mimetype": "text/x-python",
   "name": "python",
   "nbconvert_exporter": "python",
   "pygments_lexer": "ipython3",
   "version": "3.9.18"
  }
 },
 "nbformat": 4,
 "nbformat_minor": 2
}
