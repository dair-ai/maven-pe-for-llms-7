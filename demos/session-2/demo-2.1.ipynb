{
 "cells": [
  {
   "attachments": {},
   "cell_type": "markdown",
   "metadata": {},
   "source": [
    "# Session 2 - Demo 2.1 - Advanced Prompting Techniques\n",
    "\n",
    "<a href=\"https://colab.research.google.com/github/dair-ai/maven-pe-for-llms-7/blob/main/demos/session-2/demo-2.1.ipynb\" target=\"_parent\"><img src=\"https://colab.research.google.com/assets/colab-badge.svg\" alt=\"Open In Colab\"/></a>"
   ]
  },
  {
   "cell_type": "code",
   "execution_count": 35,
   "metadata": {},
   "outputs": [],
   "source": [
    "%%capture\n",
    "# update or install the necessary libraries\n",
    "!pip install --upgrade openai\n",
    "!pip install --upgrade langchain\n",
    "!pip install --upgrade python-dotenv\n",
    "!pip install google-search-results"
   ]
  },
  {
   "cell_type": "code",
   "execution_count": 2,
   "metadata": {},
   "outputs": [],
   "source": [
    "# import the necessary libraries\n",
    "import openai\n",
    "import os\n",
    "import IPython\n",
    "from langchain.llms import OpenAI\n",
    "from dotenv import load_dotenv\n",
    "\n",
    "# load the environment variables\n",
    "load_dotenv()\n",
    "\n",
    "# API configuration\n",
    "openai.api_key = os.getenv(\"OPENAI_API_KEY\")\n",
    "\n",
    "# for LangChain\n",
    "os.environ[\"OPENAI_API_KEY\"] = os.getenv(\"OPENAI_API_KEY\")\n",
    "\n",
    "# you need to obtain a SERP API key from https://serpapi.com/\n",
    "os.environ[\"SERPAPI_API_KEY\"] = os.getenv(\"SERPAPI_API_KEY\")"
   ]
  },
  {
   "cell_type": "code",
   "execution_count": 16,
   "metadata": {},
   "outputs": [],
   "source": [
    "def get_completion(messages, model=\"gpt-3.5-turbo-0613\", temperature=0, max_tokens=300):\n",
    "    response = openai.chat.completions.create(\n",
    "        model=model,\n",
    "        messages=messages,\n",
    "        temperature=temperature,\n",
    "        max_tokens=max_tokens,\n",
    "    )\n",
    "    return response.choices[0].message.content"
   ]
  },
  {
   "attachments": {},
   "cell_type": "markdown",
   "metadata": {},
   "source": [
    "### Few-shot Prompting"
   ]
  },
  {
   "cell_type": "code",
   "execution_count": 17,
   "metadata": {},
   "outputs": [
    {
     "name": "stdout",
     "output_type": "stream",
     "text": [
      "The children were so excited that they started to farduddle when they heard the ice cream truck coming.\n"
     ]
    }
   ],
   "source": [
    "prompt = \"\"\"A \"whatpu\" is a small, furry animal native to Tanzania. \n",
    "An example of a sentence that uses the word whatpu is: We were traveling in Africa and we saw these very cute whatpus.\n",
    "\n",
    "To do a \"farduddle\" means to jump up and down really fast. \n",
    "An example of a sentence that uses the word farduddle is:\n",
    "\"\"\"\n",
    "\n",
    "message = [\n",
    "    {\n",
    "        \"role\": \"user\",\n",
    "        \"content\": prompt\n",
    "    }\n",
    "]\n",
    "\n",
    "response = get_completion(message)\n",
    "print(response)"
   ]
  },
  {
   "attachments": {},
   "cell_type": "markdown",
   "metadata": {},
   "source": [
    "### Chain-of-Thought (CoT) Prompting"
   ]
  },
  {
   "cell_type": "code",
   "execution_count": 18,
   "metadata": {},
   "outputs": [
    {
     "name": "stdout",
     "output_type": "stream",
     "text": [
      "Adding all the odd numbers (15, 5, 13, 7, 1) gives 41. The answer is False.\n"
     ]
    }
   ],
   "source": [
    "prompt = \"\"\"The odd numbers in this group add up to an even number: 4, 8, 9, 15, 12, 2, 1.\n",
    "A: Adding all the odd numbers (9, 15, 1) gives 25. The answer is False.\n",
    "\n",
    "The odd numbers in this group add up to an even number: 15, 32, 5, 13, 82, 7, 1. \n",
    "A:\"\"\"\n",
    "\n",
    "message = [\n",
    "    {\n",
    "        \"role\": \"user\",\n",
    "        \"content\": prompt\n",
    "    }\n",
    "]\n",
    "\n",
    "\n",
    "response = get_completion(message)\n",
    "print(response)"
   ]
  },
  {
   "attachments": {},
   "cell_type": "markdown",
   "metadata": {},
   "source": [
    "### Zero-Shot CoT"
   ]
  },
  {
   "cell_type": "code",
   "execution_count": 19,
   "metadata": {},
   "outputs": [
    {
     "name": "stdout",
     "output_type": "stream",
     "text": [
      "Step 1: You bought 10 apples.\n",
      "Step 2: You gave 2 apples to the neighbor, so you have 10 - 2 = 8 apples remaining.\n",
      "Step 3: You gave 2 more apples to the repairman, so you have 8 - 2 = 6 apples remaining.\n",
      "Step 4: You bought 5 more apples, so you have 6 + 5 = 11 apples.\n",
      "Step 5: You ate 1 apple, so you have 11 - 1 = 10 apples remaining.\n",
      "\n",
      "Therefore, you have 10 apples remaining.\n"
     ]
    }
   ],
   "source": [
    "prompt = \"\"\"I went to the market and bought 10 apples. I gave 2 apples to the neighbor and 2 to the repairman. I then went and bought 5 more apples and ate 1. How many apples did I remain with?\n",
    "\n",
    "Let's think step by step.\"\"\"\n",
    "\n",
    "message = [\n",
    "    {\n",
    "        \"role\": \"user\",\n",
    "        \"content\": prompt\n",
    "    }\n",
    "]\n",
    "\n",
    "response = get_completion(message)\n",
    "print(response)"
   ]
  },
  {
   "attachments": {},
   "cell_type": "markdown",
   "metadata": {},
   "source": [
    "### Chain-of-thought Prompting Applied\n",
    "\n",
    "Building a movie recommendation system that responds with appropriate responses."
   ]
  },
  {
   "cell_type": "code",
   "execution_count": 20,
   "metadata": {},
   "outputs": [],
   "source": [
    "movies = \"\"\"\n",
    "The Enigma Code\n",
    "Category: Historical Drama\n",
    "Rating: 8.3/10\n",
    "Description: Set during World War II, this gripping historical drama follows the life of Alan Turing, a brilliant mathematician tasked with cracking the Enigma code used by the Nazis. His efforts contribute significantly to the Allies' victory.\n",
    "Actors: Benedict Cumberbatch, Keira Knightley, Matthew Goode\n",
    "Language: English\n",
    "Release Date: March 15, 2014\n",
    "Award Winner: Academy Award for Best Adapted Screenplay\n",
    "\n",
    "Shadows of the Samurai\n",
    "Category: Action/Adventure\n",
    "Rating: 7.9/10\n",
    "Description: In feudal Japan, a skilled samurai seeks vengeance against the corrupt warlord who murdered his master. With his swordsmanship and determination, he embarks on a dangerous journey to restore justice.\n",
    "Actors: Ken Watanabe, Tadanobu Asano, Rinko Kikuchi\n",
    "Language: Japanese\n",
    "Release Date: November 7, 2017\n",
    "Award Winner: None\n",
    "\n",
    "Mind Games\n",
    "Category: Psychological Thriller\n",
    "Rating: 8.1/10\n",
    "Description: A renowned psychologist becomes entangled in a twisted game of cat and mouse with a patient who harbors dark secrets. As their sessions progress, the lines between reality and deception blur, leading to a mind-bending climax.\n",
    "Actors: Leonardo DiCaprio, Natalie Portman, Michael Fassbender\n",
    "Language: English\n",
    "Release Date: August 22, 2019\n",
    "Award Winner: None\n",
    "\n",
    "La Casa del Tango\n",
    "Category: Musical/Drama\n",
    "Rating: 8.7/10\n",
    "Description: In the vibrant world of Buenos Aires, a passionate tango dancer finds love and inspiration amidst the backdrop of political unrest. This musical drama explores the power of dance and the pursuit of dreams.\n",
    "Actors: Antonio Banderas, Penélope Cruz, Javier Bardem\n",
    "Language: Spanish\n",
    "Release Date: June 5, 2020\n",
    "Award Winner: Golden Globe for Best Foreign Language Film\n",
    "\n",
    "Timeless Love\n",
    "Category: Romance/Fantasy\n",
    "Rating: 7.5/10\n",
    "Description: A magical encounter transports a modern-day writer back in time to Victorian England, where she falls in love with a charming aristocrat. As they navigate the complexities of time, their love is put to the ultimate test.\n",
    "Actors: Rachel McAdams, Tom Hiddleston, Emma Thompson\n",
    "Language: English\n",
    "Release Date: February 14, 2022\n",
    "Award Winner: None\n",
    "\n",
    "The Pursuit of Justice\n",
    "Category: Legal Drama\n",
    "Rating: 8.4/10\n",
    "Description: Inspired by true events, this gripping legal drama follows a determined lawyer's fight against a powerful pharmaceutical company responsible for a life-threatening drug. The courtroom battle becomes a quest for justice and redemption.\n",
    "Actors: Denzel Washington, Viola Davis, Michael B. Jordan\n",
    "Language: English\n",
    "Release Date: October 10, 2022\n",
    "Award Winner: None\n",
    "\n",
    "The Forgotten Island\n",
    "Category: Adventure/Mystery\n",
    "Rating: 7.6/10\n",
    "Description: A group of explorers stumbles upon a mysterious island believed to be uninhabited. As they uncover the island's secrets, they encounter deadly challenges and unravel an ancient civilization's enigma.\n",
    "Actors: Chris Pratt, Bryce Dallas Howard, Tom Holland\n",
    "Language: English\n",
    "Release Date: July 2, 2023\n",
    "Award Winner: None\n",
    "\n",
    "The Silent Witness\n",
    "Category: Crime/Thriller\n",
    "Rating: 8.2/10\n",
    "Description: A talented forensic pathologist becomes entangled in a high-stakes murder investigation when she discovers crucial evidence that points to a powerful criminal network. With her life on the line, she must outsmart the perpetrators.\n",
    "Actors: Emily Blunt, Jake Gyllenhaal, Mark Ruffalo\n",
    "Language: English\n",
    "Release Date: November 18, 2023\n",
    "Award Winner: None\n",
    "\n",
    "A Tale of Two Worlds\n",
    "Category: Fantasy/Adventure\n",
    "Rating: 7.8/10\n",
    "Description: When a young orphan discovers a magical portal to a parallel universe, she embarks on a thrilling adventure to save both realms from an impending disaster. Along the way, she learns about the power of friendship and self-belief.\n",
    "Actors: Millie Bobby Brown, Tom Holland, Helena Bonham Carter\n",
    "Language: English\n",
    "Release Date: April 5, 2024\n",
    "Award Winner: None\n",
    "\n",
    "A Symphony of Souls\n",
    "Category: Music/Drama\n",
    "Rating: 9.0/10\n",
    "Description: Set against the backdrop of a renowned symphony orchestra, this emotionally charged drama explores the lives and intertwining stories of its members. Through the power of music, they find solace, love, and redemption.\n",
    "Actors: Meryl Streep, Tom Hanks, Cate Blanchett\n",
    "Language: English\n",
    "Release Date: December 25, 2024\n",
    "Award Winner: None\n",
    "\"\"\""
   ]
  },
  {
   "cell_type": "code",
   "execution_count": 22,
   "metadata": {},
   "outputs": [
    {
     "name": "stdout",
     "output_type": "stream",
     "text": [
      "Step 1: The user is asking for a movie recommendation.\n",
      "Step 2: The user is specifically looking for hero movies.\n",
      "Step 3: The user has a specific request for hero movies.\n",
      "Step 4: From the list of movies provided, we can recommend \"Shadows of the Samurai\" as it falls under the category of Action/Adventure and features a skilled samurai seeking vengeance.\n",
      "Response to the user: I would recommend checking out \"Shadows of the Samurai\". It is an action/adventure movie set in feudal Japan, where a skilled samurai seeks vengeance against a corrupt warlord who murdered his master. It has a rating of 7.9/10 and features actors like Ken Watanabe and Tadanobu Asano. Enjoy the movie!\n"
     ]
    }
   ],
   "source": [
    "# the system message contains the logic (step by step) for the system to follow\n",
    "system_message = \"\"\"\n",
    "You are tasked with recommending movies based on user requests. \n",
    "\n",
    "Here are the steps you need to perform:\n",
    "\n",
    "Step 1: Check if the user is asking for a movie recommendation. If the user is asking about something else, just respond \"Please ask something about movies!\".\n",
    "\n",
    "Step 2: If the user is not asking for a movie recommendation, ask them politely what type of movie they are looking for.\n",
    "\n",
    "Step 3: If the user is asking for a movie recommendation, check if they have any specific requests or interests.\n",
    "\n",
    "Step 4: Check if there are any movie/s we can recommend from the list below:\n",
    "    {movies}\n",
    "\n",
    "Step 5: Prepare a response to the user with the movie recommendation/s. The recommendation have to be about movies that are available in the list above. The response needs to have a friendly and helpful tone.\n",
    "\n",
    "Use the following format for your response:\n",
    "Step 1: <Step 1 reasoning>\n",
    "Step 2: <Step 2 reasoning>\n",
    "Step 3: <Step 3 reasoning>\n",
    "Step 4: <Step 4 reasoning>\n",
    "Response to the user: <response to user>\n",
    "\"\"\"\n",
    "\n",
    "messages = [\n",
    "    {\n",
    "        \"role\": \"system\",\n",
    "        \"content\": system_message.format(movies=movies)\n",
    "    },\n",
    "    {\n",
    "        \"role\": \"user\",\n",
    "        \"content\": \"I am looking for a movie recommendation on hero movies. Can you recommend any?\"\n",
    "    }\n",
    "]\n",
    "\n",
    "response = get_completion(messages)\n",
    "\n",
    "print(response)"
   ]
  },
  {
   "cell_type": "code",
   "execution_count": 23,
   "metadata": {},
   "outputs": [
    {
     "name": "stdout",
     "output_type": "stream",
     "text": [
      "Please ask something about movies!\n"
     ]
    }
   ],
   "source": [
    "# let's try another example\n",
    "messages = [\n",
    "    {\n",
    "        \"role\": \"system\",\n",
    "        \"content\": system_message.format(movies=movies)\n",
    "    },\n",
    "    {\n",
    "        \"role\": \"user\",\n",
    "        \"content\": \"I am looking for the latest shoes. Can you recommend any?\"\n",
    "    }\n",
    "]\n",
    "\n",
    "response = get_completion(messages)\n",
    "\n",
    "print(response)"
   ]
  },
  {
   "cell_type": "code",
   "execution_count": 24,
   "metadata": {},
   "outputs": [
    {
     "name": "stdout",
     "output_type": "stream",
     "text": [
      "Step 1: The user is asking for a movie recommendation.\n",
      "Step 2: The user is asking for a specific movie involving Denzel Washington and Leonardo DiCaprio.\n",
      "Step 3: The user has a specific request for a movie involving Denzel Washington and Leonardo DiCaprio.\n",
      "Step 4: We can recommend the movie \"Mind Games\" which stars Leonardo DiCaprio and is a psychological thriller. However, there is no movie in the list that specifically involves both Denzel Washington and Leonardo DiCaprio.\n",
      "Response to the user: I'm sorry, but there is no movie in the list that specifically involves both Denzel Washington and Leonardo DiCaprio. However, I can recommend the movie \"Mind Games\" which stars Leonardo DiCaprio and is a psychological thriller.\n"
     ]
    }
   ],
   "source": [
    "# let's try another example that's a bit more challenging to the model\n",
    "messages = [\n",
    "    {\n",
    "        \"role\": \"system\",\n",
    "        \"content\": system_message.format(movies=movies)\n",
    "    },\n",
    "    {\n",
    "        \"role\": \"user\",\n",
    "        \"content\": \"Can you recommend me a Denzel Washington movie involving Leonardo Dicaprio?\"\n",
    "    }\n",
    "]\n",
    "\n",
    "response = get_completion(messages)\n",
    "\n",
    "print(response)"
   ]
  },
  {
   "cell_type": "markdown",
   "metadata": {},
   "source": [
    "---"
   ]
  },
  {
   "attachments": {},
   "cell_type": "markdown",
   "metadata": {},
   "source": [
    "## Program-Aided Language Model"
   ]
  },
  {
   "attachments": {},
   "cell_type": "markdown",
   "metadata": {},
   "source": [
    "We can use LangChain for convenience so we will introduce LangChain in Session 2. "
   ]
  },
  {
   "cell_type": "code",
   "execution_count": 26,
   "metadata": {},
   "outputs": [],
   "source": [
    "question = \"Which is the oldest penguin?\""
   ]
  },
  {
   "cell_type": "code",
   "execution_count": 27,
   "metadata": {},
   "outputs": [],
   "source": [
    "PENGUIN_PROMPT = '''\n",
    "\"\"\"\n",
    "Q: Here is a table where the first line is a header and each subsequent line is a penguin:\n",
    "name, age, height (cm), weight (kg) \n",
    "Louis, 7, 50, 11\n",
    "Bernard, 5, 80, 13\n",
    "Vincent, 9, 60, 11\n",
    "Gwen, 8, 70, 15\n",
    "For example: the age of Louis is 7, the weight of Gwen is 15 kg, the height of Bernard is 80 cm. \n",
    "We now add a penguin to the table:\n",
    "James, 12, 90, 12\n",
    "How many penguins are less than 8 years old?\n",
    "\"\"\"\n",
    "# Put the penguins into a list.\n",
    "penguins = []\n",
    "penguins.append(('Louis', 7, 50, 11))\n",
    "penguins.append(('Bernard', 5, 80, 13))\n",
    "penguins.append(('Vincent', 9, 60, 11))\n",
    "penguins.append(('Gwen', 8, 70, 15))\n",
    "# Add penguin James.\n",
    "penguins.append(('James', 12, 90, 12))\n",
    "# Find penguins under 8 years old.\n",
    "penguins_under_8_years_old = [penguin for penguin in penguins if penguin[1] < 8]\n",
    "# Count number of penguins under 8.\n",
    "num_penguin_under_8 = len(penguins_under_8_years_old)\n",
    "answer = num_penguin_under_8\n",
    "\"\"\"\n",
    "Q: Here is a table where the first line is a header and each subsequent line is a penguin:\n",
    "name, age, height (cm), weight (kg) \n",
    "Louis, 7, 50, 11\n",
    "Bernard, 5, 80, 13\n",
    "Vincent, 9, 60, 11\n",
    "Gwen, 8, 70, 15\n",
    "For example: the age of Louis is 7, the weight of Gwen is 15 kg, the height of Bernard is 80 cm.\n",
    "Which is the youngest penguin?\n",
    "\"\"\"\n",
    "# Put the penguins into a list.\n",
    "penguins = []\n",
    "penguins.append(('Louis', 7, 50, 11))\n",
    "penguins.append(('Bernard', 5, 80, 13))\n",
    "penguins.append(('Vincent', 9, 60, 11))\n",
    "penguins.append(('Gwen', 8, 70, 15))\n",
    "# Sort the penguins by age.\n",
    "penguins = sorted(penguins, key=lambda x: x[1])\n",
    "# Get the youngest penguin's name.\n",
    "youngest_penguin_name = penguins[0][0]\n",
    "answer = youngest_penguin_name\n",
    "\"\"\"\n",
    "Q: Here is a table where the first line is a header and each subsequent line is a penguin:\n",
    "name, age, height (cm), weight (kg) \n",
    "Louis, 7, 50, 11\n",
    "Bernard, 5, 80, 13\n",
    "Vincent, 9, 60, 11\n",
    "Gwen, 8, 70, 15\n",
    "For example: the age of Louis is 7, the weight of Gwen is 15 kg, the height of Bernard is 80 cm.\n",
    "What is the name of the second penguin sorted by alphabetic order?\n",
    "\"\"\"\n",
    "# Put the penguins into a list.\n",
    "penguins = []\n",
    "penguins.append(('Louis', 7, 50, 11))\n",
    "penguins.append(('Bernard', 5, 80, 13))\n",
    "penguins.append(('Vincent', 9, 60, 11))\n",
    "penguins.append(('Gwen', 8, 70, 15))\n",
    "# Sort penguins by alphabetic order.\n",
    "penguins_alphabetic = sorted(penguins, key=lambda x: x[0])\n",
    "# Get the second penguin sorted by alphabetic order.\n",
    "second_penguin_name = penguins_alphabetic[1][0]\n",
    "answer = second_penguin_name\n",
    "\"\"\"\n",
    "{question}\n",
    "\"\"\"\n",
    "'''.strip() + '\\n'"
   ]
  },
  {
   "cell_type": "code",
   "execution_count": 30,
   "metadata": {},
   "outputs": [],
   "source": [
    "messages = [\n",
    "    {\n",
    "        \"role\": \"user\",\n",
    "        \"content\": PENGUIN_PROMPT.format(question=question)\n",
    "    }\n",
    "]\n",
    "\n",
    "llm_out = get_completion(messages=messages)"
   ]
  },
  {
   "cell_type": "code",
   "execution_count": 31,
   "metadata": {},
   "outputs": [
    {
     "name": "stdout",
     "output_type": "stream",
     "text": [
      "Vincent\n"
     ]
    }
   ],
   "source": [
    "exec(llm_out)\n",
    "print(answer)"
   ]
  },
  {
   "cell_type": "markdown",
   "metadata": {},
   "source": [
    "---"
   ]
  },
  {
   "attachments": {},
   "cell_type": "markdown",
   "metadata": {},
   "source": [
    "## ReAct"
   ]
  },
  {
   "attachments": {},
   "cell_type": "markdown",
   "metadata": {},
   "source": [
    "For more complex tasks that requires grounding the LM on the latest information, a framework like ReAct can help."
   ]
  },
  {
   "attachments": {},
   "cell_type": "markdown",
   "metadata": {},
   "source": [
    "To test the limitation of the standalone LLM, let's look at a simple example:"
   ]
  },
  {
   "cell_type": "code",
   "execution_count": 32,
   "metadata": {},
   "outputs": [
    {
     "name": "stdout",
     "output_type": "stream",
     "text": [
      "I'm sorry, but as an AI language model, I don't have access to real-time information or future events. The 2023 NBA Finals have not occurred yet, so I cannot provide you with the winner.\n"
     ]
    }
   ],
   "source": [
    "prompt = \"\"\"Which team won the 2023 NBA finals?\"\"\"\n",
    "\n",
    "message = [\n",
    "    {\n",
    "        \"role\": \"user\",\n",
    "        \"content\": prompt\n",
    "    }\n",
    "]\n",
    "\n",
    "response = get_completion(message)\n",
    "print(response)"
   ]
  },
  {
   "attachments": {},
   "cell_type": "markdown",
   "metadata": {},
   "source": [
    "Everything is inaccurate about the responses!"
   ]
  },
  {
   "attachments": {},
   "cell_type": "markdown",
   "metadata": {},
   "source": [
    "LLMs on their own are unreliable for knowledge-intensive tasks that require up-to-date information. Let's now look at an example with ReAct using LangChain.\n",
    "\n",
    "You will need to set an `SERPAPI_API_KEY` in your `.env` which you can obtain using a free account here: https://serpapi.com/\n"
   ]
  },
  {
   "cell_type": "code",
   "execution_count": 36,
   "metadata": {},
   "outputs": [],
   "source": [
    "from langchain.agents import load_tools\n",
    "from langchain.agents import AgentType\n",
    "from langchain.agents import initialize_agent"
   ]
  },
  {
   "cell_type": "code",
   "execution_count": 37,
   "metadata": {},
   "outputs": [
    {
     "name": "stderr",
     "output_type": "stream",
     "text": [
      "/Users/elvissaravia/opt/miniconda3/envs/pe-for-llms/lib/python3.9/site-packages/langchain_core/_api/deprecation.py:117: LangChainDeprecationWarning: The function `initialize_agent` was deprecated in LangChain 0.1.0 and will be removed in 0.2.0. Use Use new agent constructor methods like create_react_agent, create_json_agent, create_structured_chat_agent, etc. instead.\n",
      "  warn_deprecated(\n"
     ]
    }
   ],
   "source": [
    "llm = OpenAI(temperature=0)\n",
    "\n",
    "tools = load_tools([\"serpapi\"], llm=llm)\n",
    "agent = initialize_agent(tools, llm , agent=AgentType.ZERO_SHOT_REACT_DESCRIPTION, verbose=True)"
   ]
  },
  {
   "cell_type": "code",
   "execution_count": 38,
   "metadata": {},
   "outputs": [
    {
     "name": "stderr",
     "output_type": "stream",
     "text": [
      "/Users/elvissaravia/opt/miniconda3/envs/pe-for-llms/lib/python3.9/site-packages/langchain_core/_api/deprecation.py:117: LangChainDeprecationWarning: The function `run` was deprecated in LangChain 0.1.0 and will be removed in 0.2.0. Use invoke instead.\n",
      "  warn_deprecated(\n"
     ]
    },
    {
     "name": "stdout",
     "output_type": "stream",
     "text": [
      "\n",
      "\n",
      "\u001b[1m> Entering new AgentExecutor chain...\u001b[0m\n",
      "\u001b[32;1m\u001b[1;3m I should search for the current standings in the NBA Western Conference.\n",
      "Action: Search\n",
      "Action Input: \"NBA Western Conference standings\"\u001b[0m\n",
      "Observation: \u001b[36;1m\u001b[1;3m{'title': 'NBA standings', 'thumbnail': 'https://serpapi.com/searches/65afe59a681ebee868350930/images/557b4a4265f9ece78704b4078edffe0754b56c436d9411b481518cd5f6b575d0.png', 'season': '2023–24', 'round': 'Regular season', 'league': {'standings': [{'team': {'thumbnail': 'https://serpapi.com/searches/65afe59a681ebee868350930/images/557b4a4265f9ece79ea7b8c5eaaca2f5b4b64b1122b76d7cd05b5d45fce0442a17396e6382fb46d5a202d74275a94a6ba15b74ea58b338e3.png', 'name': 'Timberwolves'}, 'pos': '1', 'w': '30', 'l': '13', 'pct': '.698', 'gb': '-', 'conf': '21-7', 'home': '17-4', 'away': '13-9', 'l10': '6-4', 'strk': 'L2'}, {'team': {'thumbnail': 'https://serpapi.com/searches/65afe59a681ebee868350930/images/557b4a4265f9ece79ea7b8c5eaaca2f5b4b64b1122b76d7cd05b5d45fce0442a33fc2aa2d612f5a084525f5573433ccfd2a6c27964c74bdf.png', 'name': 'Thunder'}, 'pos': '2', 'w': '29', 'l': '13', 'pct': '.690', 'gb': '0.5', 'conf': '17-10', 'home': '16-5', 'away': '13-8', 'l10': '6-4', 'strk': 'W2'}, {'team': {'thumbnail': 'https://serpapi.com/searches/65afe59a681ebee868350930/images/557b4a4265f9ece79ea7b8c5eaaca2f5b4b64b1122b76d7cd05b5d45fce0442aa6543c260d2d4329d4eacc4e39f32070ec4340f356004ae3.png', 'name': 'Nuggets'}, 'pos': '3', 'w': '30', 'l': '14', 'pct': '.682', 'gb': '0.5', 'conf': '17-10', 'home': '17-4', 'away': '13-10', 'l10': '7-3', 'strk': 'W2'}, {'team': {'thumbnail': 'https://serpapi.com/searches/65afe59a681ebee868350930/images/557b4a4265f9ece79ea7b8c5eaaca2f5b4b64b1122b76d7cd05b5d45fce0442aa7bf96a77f2603d3287b447e1f9392c77ae12a302031ff47.png', 'name': 'Clippers'}, 'pos': '4', 'w': '27', 'l': '14', 'pct': '.659', 'gb': '2.0', 'conf': '20-11', 'home': '18-4', 'away': '9-10', 'l10': '8-2', 'strk': 'W2'}, {'team': {'thumbnail': 'https://serpapi.com/searches/65afe59a681ebee868350930/images/557b4a4265f9ece79ea7b8c5eaaca2f5b4b64b1122b76d7cd05b5d45fce0442a9d28fa5a24e803a1fa0ee5747d576200c685f1695928c5c3.png', 'name': 'Suns'}, 'pos': '5', 'w': '25', 'l': '18', 'pct': '.581', 'gb': '5.0', 'conf': '16-14', 'home': '14-11', 'away': '11-7', 'l10': '7-3', 'strk': 'W6'}]}}\u001b[0m\n",
      "Thought:\u001b[32;1m\u001b[1;3m I should check the current standings to see who is in first place.\n",
      "Action: Search\n",
      "Action Input: \"NBA Western Conference standings\"\u001b[0m\n",
      "Observation: \u001b[36;1m\u001b[1;3m{'title': 'NBA standings', 'thumbnail': 'https://serpapi.com/searches/65afe59a681ebee868350930/images/557b4a4265f9ece78704b4078edffe0754b56c436d9411b481518cd5f6b575d0.png', 'season': '2023–24', 'round': 'Regular season', 'league': {'standings': [{'team': {'thumbnail': 'https://serpapi.com/searches/65afe59a681ebee868350930/images/557b4a4265f9ece79ea7b8c5eaaca2f5b4b64b1122b76d7cd05b5d45fce0442a17396e6382fb46d5a202d74275a94a6ba15b74ea58b338e3.png', 'name': 'Timberwolves'}, 'pos': '1', 'w': '30', 'l': '13', 'pct': '.698', 'gb': '-', 'conf': '21-7', 'home': '17-4', 'away': '13-9', 'l10': '6-4', 'strk': 'L2'}, {'team': {'thumbnail': 'https://serpapi.com/searches/65afe59a681ebee868350930/images/557b4a4265f9ece79ea7b8c5eaaca2f5b4b64b1122b76d7cd05b5d45fce0442a33fc2aa2d612f5a084525f5573433ccfd2a6c27964c74bdf.png', 'name': 'Thunder'}, 'pos': '2', 'w': '29', 'l': '13', 'pct': '.690', 'gb': '0.5', 'conf': '17-10', 'home': '16-5', 'away': '13-8', 'l10': '6-4', 'strk': 'W2'}, {'team': {'thumbnail': 'https://serpapi.com/searches/65afe59a681ebee868350930/images/557b4a4265f9ece79ea7b8c5eaaca2f5b4b64b1122b76d7cd05b5d45fce0442aa6543c260d2d4329d4eacc4e39f32070ec4340f356004ae3.png', 'name': 'Nuggets'}, 'pos': '3', 'w': '30', 'l': '14', 'pct': '.682', 'gb': '0.5', 'conf': '17-10', 'home': '17-4', 'away': '13-10', 'l10': '7-3', 'strk': 'W2'}, {'team': {'thumbnail': 'https://serpapi.com/searches/65afe59a681ebee868350930/images/557b4a4265f9ece79ea7b8c5eaaca2f5b4b64b1122b76d7cd05b5d45fce0442aa7bf96a77f2603d3287b447e1f9392c77ae12a302031ff47.png', 'name': 'Clippers'}, 'pos': '4', 'w': '27', 'l': '14', 'pct': '.659', 'gb': '2.0', 'conf': '20-11', 'home': '18-4', 'away': '9-10', 'l10': '8-2', 'strk': 'W2'}, {'team': {'thumbnail': 'https://serpapi.com/searches/65afe59a681ebee868350930/images/557b4a4265f9ece79ea7b8c5eaaca2f5b4b64b1122b76d7cd05b5d45fce0442a9d28fa5a24e803a1fa0ee5747d576200c685f1695928c5c3.png', 'name': 'Suns'}, 'pos': '5', 'w': '25', 'l': '18', 'pct': '.581', 'gb': '5.0', 'conf': '16-14', 'home': '14-11', 'away': '11-7', 'l10': '7-3', 'strk': 'W6'}]}}\u001b[0m\n",
      "Thought:\u001b[32;1m\u001b[1;3m The Timberwolves are currently in first place in the NBA Western Conference.\n",
      "Final Answer: The Timberwolves are leading the NBA Western Conference.\u001b[0m\n",
      "\n",
      "\u001b[1m> Finished chain.\u001b[0m\n"
     ]
    },
    {
     "data": {
      "text/plain": [
       "'The Timberwolves are leading the NBA Western Conference.'"
      ]
     },
     "execution_count": 38,
     "metadata": {},
     "output_type": "execute_result"
    }
   ],
   "source": [
    "# run the agent\n",
    "agent.run(\"Who is leading the NBA Western Conference?\")"
   ]
  },
  {
   "cell_type": "code",
   "execution_count": null,
   "metadata": {},
   "outputs": [],
   "source": []
  }
 ],
 "metadata": {
  "kernelspec": {
   "display_name": "langchain",
   "language": "python",
   "name": "python3"
  },
  "language_info": {
   "codemirror_mode": {
    "name": "ipython",
    "version": 3
   },
   "file_extension": ".py",
   "mimetype": "text/x-python",
   "name": "python",
   "nbconvert_exporter": "python",
   "pygments_lexer": "ipython3",
   "version": "3.9.18"
  },
  "orig_nbformat": 4
 },
 "nbformat": 4,
 "nbformat_minor": 2
}
